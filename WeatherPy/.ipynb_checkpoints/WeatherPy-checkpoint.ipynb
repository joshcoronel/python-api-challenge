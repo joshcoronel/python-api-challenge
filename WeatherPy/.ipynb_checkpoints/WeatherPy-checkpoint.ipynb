{
 "cells": [
  {
   "cell_type": "markdown",
   "metadata": {},
   "source": [
    "# Observations and Insights\n",
    "* Max temp vs northern latitudes have an r-factor of 0.75 and Max temp vs southern latitudes have an r-factor of-0.67. This suggests a significant correlation between latitude and max temperature for both the northern and southern hemisphere\n",
    "![LineChart](Figures/NorthMaxTempRegression.png)\n",
    "![LineChart](Figures/SouthMaxTempRegression.png)\n",
    "\n",
    "* Cloudiness vs northern latitudes have an r-factor of -0.07 and cloudiness vs southern latitudes have an r-factor of-0.16. This doesn't suggest a significant correlation between latitude and cloudiness for both the northern and southern hemisphere\n",
    "![LineChart](Figures/NorthCloudRegression.png)\n",
    "![LineChart](Figures/SouthCloudRegression.png)\n",
    "\n",
    "* Humidity vs northern latitudes have an r-factor of 0.07 and Humidity vs southern latitudes have an r-factor of-0.04. This doesn't suggest a significant correlation between latitude and humidity for both the northern and southern hemisphere\n",
    "![LineChart](Figures/NorthHumidityRegression.png)\n",
    "![LineChart](Figures/SouthHumidityRegression.png)"
   ]
  },
  {
   "cell_type": "markdown",
   "metadata": {},
   "source": [
    "# WeatherPy\n",
    "----\n",
    "\n",
    "#### Note\n",
    "* Instructions have been included for each segment. You do not have to follow them exactly, but they are included to help you think through the steps."
   ]
  },
  {
   "cell_type": "code",
   "execution_count": 2,
   "metadata": {
    "scrolled": true
   },
   "outputs": [],
   "source": [
    "# Dependencies and Setup\n",
    "import matplotlib.pyplot as plt\n",
    "import pandas as pd\n",
    "import numpy as np\n",
    "import requests\n",
    "import time\n",
    "import scipy.stats as st\n",
    "\n",
    "# Import API key\n",
    "from api_keys import weather_api_key\n",
    "\n",
    "# Incorporated citipy to determine city based on latitude and longitude\n",
    "from citipy import citipy\n",
    "\n",
    "# Output File (CSV)\n",
    "output_data_file = \"output_data/cities.csv\"\n",
    "\n",
    "# Range of latitudes and longitudes\n",
    "lat_range = (-90, 90)\n",
    "lng_range = (-180, 180)"
   ]
  },
  {
   "cell_type": "markdown",
   "metadata": {},
   "source": [
    "## Generate Cities List"
   ]
  },
  {
   "cell_type": "code",
   "execution_count": 3,
   "metadata": {},
   "outputs": [
    {
     "data": {
      "text/plain": [
       "601"
      ]
     },
     "execution_count": 3,
     "metadata": {},
     "output_type": "execute_result"
    }
   ],
   "source": [
    "# List for holding lat_lngs and cities\n",
    "lat_lngs = []\n",
    "cities = []\n",
    "\n",
    "# Create a set of random lat and lng combinations\n",
    "lats = np.random.uniform(lat_range[0], lat_range[1], size=1500)\n",
    "lngs = np.random.uniform(lng_range[0], lng_range[1], size=1500)\n",
    "lat_lngs = zip(lats, lngs)\n",
    "\n",
    "# Identify nearest city for each lat, lng combination\n",
    "for lat_lng in lat_lngs:\n",
    "    city = citipy.nearest_city(lat_lng[0], lat_lng[1]).city_name\n",
    "    \n",
    "    # If the city is unique, then add it to a our cities list\n",
    "    if city not in cities:\n",
    "        cities.append(city)\n",
    "\n",
    "# Print the city count to confirm sufficient count\n",
    "len(cities)"
   ]
  },
  {
   "cell_type": "markdown",
   "metadata": {},
   "source": [
    "### Perform API Calls\n",
    "* Perform a weather check on each city using a series of successive API calls.\n",
    "* Include a print log of each city as it'sbeing processed (with the city number and city name).\n"
   ]
  },
  {
   "cell_type": "code",
   "execution_count": 4,
   "metadata": {},
   "outputs": [
    {
     "name": "stdout",
     "output_type": "stream",
     "text": [
      "Beginning Data Retrieval\n",
      "-----------------------------\n",
      "Processing Record 1 of Set 1 | butaritari\n",
      "Processing Record 2 of Set 1 | kununurra\n",
      "Processing Record 3 of Set 1 | vaini\n",
      "Processing Record 4 of Set 1 | cidreira\n",
      "Processing Record 5 of Set 1 | ushuaia\n",
      "Processing Record 6 of Set 1 | upernavik\n",
      "Processing Record 7 of Set 1 | hobart\n",
      "Processing Record 8 of Set 1 | havoysund\n",
      "Processing Record 9 of Set 1 | busselton\n",
      "Processing Record 10 of Set 1 | kavieng\n",
      "Processing Record 11 of Set 1 | ibra\n",
      "Processing Record 12 of Set 1 | mount isa\n",
      "Processing Record 13 of Set 1 | saint-philippe\n",
      "City not found. Skipping...\n",
      "Processing Record 14 of Set 1 | bluff\n",
      "Processing Record 15 of Set 1 | port blair\n",
      "Processing Record 16 of Set 1 | storforshei\n",
      "Processing Record 17 of Set 1 | georgetown\n",
      "Processing Record 18 of Set 1 | honningsvag\n",
      "City not found. Skipping...\n",
      "Processing Record 19 of Set 1 | kemijarvi\n",
      "Processing Record 20 of Set 1 | khatanga\n",
      "City not found. Skipping...\n",
      "Processing Record 21 of Set 1 | rikitea\n",
      "Processing Record 22 of Set 1 | punta arenas\n",
      "Processing Record 23 of Set 1 | engels\n",
      "Processing Record 24 of Set 1 | tiksi\n",
      "Processing Record 25 of Set 1 | lensk\n",
      "Processing Record 26 of Set 1 | yellowknife\n",
      "Processing Record 27 of Set 1 | erenhot\n",
      "Processing Record 28 of Set 1 | kapaa\n",
      "Processing Record 29 of Set 1 | cochrane\n",
      "Processing Record 30 of Set 1 | saldanha\n",
      "Processing Record 31 of Set 1 | arraial do cabo\n",
      "Processing Record 32 of Set 1 | klaksvik\n",
      "Processing Record 33 of Set 1 | yaan\n",
      "Processing Record 34 of Set 1 | avarua\n",
      "Processing Record 35 of Set 1 | mataura\n",
      "Processing Record 36 of Set 1 | paramonga\n",
      "Processing Record 37 of Set 1 | jamestown\n",
      "Processing Record 38 of Set 1 | sakakah\n",
      "City not found. Skipping...\n",
      "Processing Record 39 of Set 1 | taldan\n",
      "Processing Record 40 of Set 1 | hobyo\n",
      "City not found. Skipping...\n",
      "Processing Record 41 of Set 1 | faya\n",
      "City not found. Skipping...\n",
      "Processing Record 42 of Set 1 | provideniya\n",
      "Processing Record 43 of Set 1 | saskylakh\n",
      "Processing Record 44 of Set 1 | bandarbeyla\n",
      "City not found. Skipping...\n",
      "Processing Record 45 of Set 1 | havre-saint-pierre\n",
      "Processing Record 46 of Set 1 | hermanus\n",
      "Processing Record 47 of Set 1 | rudnya\n",
      "Processing Record 48 of Set 1 | atuona\n",
      "Processing Record 49 of Set 1 | svetlyy\n",
      "Processing Record 50 of Set 1 | muisne\n",
      "Processing Record 0 of Set 2 | lebu\n",
      "Processing Record 1 of Set 2 | san patricio\n",
      "Processing Record 2 of Set 2 | iqaluit\n",
      "Processing Record 3 of Set 2 | bredasdorp\n",
      "Processing Record 4 of Set 2 | rurrenabaque\n",
      "Processing Record 5 of Set 2 | tolaga bay\n",
      "Processing Record 6 of Set 2 | pangkalanbuun\n",
      "Processing Record 7 of Set 2 | castro\n",
      "Processing Record 8 of Set 2 | souillac\n",
      "Processing Record 9 of Set 2 | cayenne\n",
      "Processing Record 10 of Set 2 | kloulklubed\n",
      "Processing Record 11 of Set 2 | hamilton\n",
      "Processing Record 12 of Set 2 | sitka\n",
      "Processing Record 13 of Set 2 | hithadhoo\n",
      "Processing Record 14 of Set 2 | flin flon\n",
      "City not found. Skipping...\n",
      "Processing Record 15 of Set 2 | puerto ayora\n",
      "Processing Record 16 of Set 2 | kodiak\n",
      "Processing Record 17 of Set 2 | skibbereen\n",
      "Processing Record 18 of Set 2 | isangel\n",
      "Processing Record 19 of Set 2 | codrington\n",
      "Processing Record 20 of Set 2 | asuncion\n",
      "Processing Record 21 of Set 2 | matay\n",
      "City not found. Skipping...\n",
      "Processing Record 22 of Set 2 | ponta do sol\n",
      "Processing Record 23 of Set 2 | samarai\n",
      "Processing Record 24 of Set 2 | port alfred\n",
      "Processing Record 25 of Set 2 | luwuk\n",
      "City not found. Skipping...\n",
      "Processing Record 26 of Set 2 | lavrentiya\n",
      "City not found. Skipping...\n",
      "Processing Record 27 of Set 2 | mar del plata\n",
      "Processing Record 28 of Set 2 | port lincoln\n",
      "City not found. Skipping...\n",
      "Processing Record 29 of Set 2 | grafton\n",
      "Processing Record 30 of Set 2 | birao\n",
      "Processing Record 31 of Set 2 | zavallya\n",
      "Processing Record 32 of Set 2 | constitucion\n",
      "Processing Record 33 of Set 2 | katsuura\n",
      "Processing Record 34 of Set 2 | kaitangata\n",
      "Processing Record 35 of Set 2 | port elizabeth\n",
      "Processing Record 36 of Set 2 | albany\n",
      "Processing Record 37 of Set 2 | nikolskoye\n",
      "Processing Record 38 of Set 2 | thiruvananthapuram\n",
      "Processing Record 39 of Set 2 | chuy\n",
      "Processing Record 40 of Set 2 | cape town\n",
      "Processing Record 41 of Set 2 | dikson\n",
      "Processing Record 42 of Set 2 | genteng\n",
      "Processing Record 43 of Set 2 | nishihara\n",
      "Processing Record 44 of Set 2 | airai\n",
      "Processing Record 45 of Set 2 | krasnoselkup\n",
      "Processing Record 46 of Set 2 | tabas\n",
      "Processing Record 47 of Set 2 | tasiilaq\n",
      "Processing Record 48 of Set 2 | ilulissat\n",
      "Processing Record 49 of Set 2 | taoudenni\n",
      "Processing Record 50 of Set 2 | quelimane\n",
      "Processing Record 0 of Set 3 | road town\n",
      "Processing Record 1 of Set 3 | shimoda\n",
      "Processing Record 2 of Set 3 | teodoro sampaio\n",
      "Processing Record 3 of Set 3 | mahebourg\n",
      "Processing Record 4 of Set 3 | high level\n",
      "Processing Record 5 of Set 3 | boddam\n",
      "Processing Record 6 of Set 3 | guye\n",
      "Processing Record 7 of Set 3 | konosha\n",
      "Processing Record 8 of Set 3 | dzaoudzi\n",
      "Processing Record 9 of Set 3 | saint george\n",
      "Processing Record 10 of Set 3 | viedma\n",
      "Processing Record 11 of Set 3 | changde\n",
      "Processing Record 12 of Set 3 | ugoofaaru\n",
      "Processing Record 13 of Set 3 | carnarvon\n",
      "Processing Record 14 of Set 3 | sao joao da barra\n",
      "Processing Record 15 of Set 3 | tautira\n",
      "Processing Record 16 of Set 3 | besancon\n",
      "Processing Record 17 of Set 3 | maloy\n",
      "Processing Record 18 of Set 3 | kyren\n",
      "Processing Record 19 of Set 3 | hofn\n",
      "Processing Record 20 of Set 3 | oga\n",
      "City not found. Skipping...\n",
      "Processing Record 21 of Set 3 | port augusta\n",
      "Processing Record 22 of Set 3 | chaykovskaya\n",
      "Processing Record 23 of Set 3 | ajdabiya\n",
      "Processing Record 24 of Set 3 | labytnangi\n",
      "City not found. Skipping...\n",
      "Processing Record 25 of Set 3 | aykhal\n",
      "City not found. Skipping...\n",
      "Processing Record 26 of Set 3 | shingu\n",
      "Processing Record 27 of Set 3 | grindavik\n",
      "Processing Record 28 of Set 3 | vardo\n",
      "Processing Record 29 of Set 3 | rio gallegos\n",
      "Processing Record 30 of Set 3 | ayagoz\n",
      "Processing Record 31 of Set 3 | nago\n",
      "Processing Record 32 of Set 3 | hami\n",
      "City not found. Skipping...\n",
      "Processing Record 33 of Set 3 | tuktoyaktuk\n",
      "Processing Record 34 of Set 3 | cabo san lucas\n",
      "Processing Record 35 of Set 3 | marsa matruh\n",
      "Processing Record 36 of Set 3 | hilo\n",
      "Processing Record 37 of Set 3 | puerto escondido\n",
      "Processing Record 38 of Set 3 | seoul\n",
      "Processing Record 39 of Set 3 | kensington\n",
      "City not found. Skipping...\n",
      "City not found. Skipping...\n",
      "Processing Record 40 of Set 3 | richards bay\n",
      "Processing Record 41 of Set 3 | nome\n",
      "Processing Record 42 of Set 3 | talnakh\n",
      "Processing Record 43 of Set 3 | chara\n",
      "Processing Record 44 of Set 3 | thompson\n",
      "Processing Record 45 of Set 3 | geraldton\n",
      "Processing Record 46 of Set 3 | buraydah\n",
      "Processing Record 47 of Set 3 | new norfolk\n",
      "City not found. Skipping...\n",
      "Processing Record 48 of Set 3 | kyaikkami\n",
      "City not found. Skipping...\n",
      "Processing Record 49 of Set 3 | lang suan\n",
      "Processing Record 50 of Set 3 | saint-francois\n",
      "Processing Record 0 of Set 4 | vagur\n",
      "Processing Record 1 of Set 4 | iquitos\n",
      "Processing Record 2 of Set 4 | lasa\n",
      "Processing Record 3 of Set 4 | hambantota\n",
      "Processing Record 4 of Set 4 | acajutla\n",
      "Processing Record 5 of Set 4 | biskamzha\n",
      "City not found. Skipping...\n",
      "Processing Record 6 of Set 4 | ewa beach\n",
      "Processing Record 7 of Set 4 | cortez\n",
      "Processing Record 8 of Set 4 | guerrero negro\n",
      "Processing Record 9 of Set 4 | pevek\n",
      "Processing Record 10 of Set 4 | balakhta\n",
      "Processing Record 11 of Set 4 | verkhniy rohachyk\n",
      "Processing Record 12 of Set 4 | natal\n",
      "Processing Record 13 of Set 4 | sechura\n",
      "Processing Record 14 of Set 4 | wad madani\n",
      "Processing Record 15 of Set 4 | tucurui\n",
      "Processing Record 16 of Set 4 | piranshahr\n",
      "Processing Record 17 of Set 4 | sept-iles\n",
      "Processing Record 18 of Set 4 | torbay\n",
      "Processing Record 19 of Set 4 | nieuw nickerie\n",
      "Processing Record 20 of Set 4 | calama\n",
      "Processing Record 21 of Set 4 | riyadh\n",
      "Processing Record 22 of Set 4 | jalu\n",
      "Processing Record 23 of Set 4 | longyearbyen\n",
      "Processing Record 24 of Set 4 | bethel\n",
      "Processing Record 25 of Set 4 | yumen\n",
      "Processing Record 26 of Set 4 | yate\n",
      "Processing Record 27 of Set 4 | qaqortoq\n",
      "Processing Record 28 of Set 4 | hasaki\n",
      "Processing Record 29 of Set 4 | arica\n",
      "Processing Record 30 of Set 4 | sobolevo\n",
      "Processing Record 31 of Set 4 | maragogi\n",
      "Processing Record 32 of Set 4 | thai binh\n",
      "Processing Record 33 of Set 4 | rio grande\n",
      "City not found. Skipping...\n"
     ]
    },
    {
     "name": "stdout",
     "output_type": "stream",
     "text": [
      "Processing Record 34 of Set 4 | rawson\n",
      "Processing Record 35 of Set 4 | vao\n",
      "Processing Record 36 of Set 4 | cururupu\n",
      "City not found. Skipping...\n",
      "Processing Record 37 of Set 4 | kothi\n",
      "Processing Record 38 of Set 4 | morondava\n",
      "Processing Record 39 of Set 4 | napuro\n",
      "Processing Record 40 of Set 4 | barrow\n",
      "City not found. Skipping...\n",
      "Processing Record 41 of Set 4 | san matias\n",
      "Processing Record 42 of Set 4 | sonamura\n",
      "Processing Record 43 of Set 4 | itarema\n",
      "Processing Record 44 of Set 4 | pacific grove\n",
      "Processing Record 45 of Set 4 | sorland\n",
      "Processing Record 46 of Set 4 | panguna\n",
      "Processing Record 47 of Set 4 | ordu\n",
      "Processing Record 48 of Set 4 | norman wells\n",
      "Processing Record 49 of Set 4 | namatanai\n",
      "Processing Record 50 of Set 4 | avera\n",
      "Processing Record 0 of Set 5 | nouadhibou\n",
      "City not found. Skipping...\n",
      "Processing Record 1 of Set 5 | auki\n",
      "City not found. Skipping...\n",
      "Processing Record 2 of Set 5 | tarko-sale\n",
      "Processing Record 3 of Set 5 | narsaq\n",
      "Processing Record 4 of Set 5 | paamiut\n",
      "Processing Record 5 of Set 5 | belfast\n",
      "Processing Record 6 of Set 5 | verkhoyansk\n",
      "Processing Record 7 of Set 5 | abha\n",
      "Processing Record 8 of Set 5 | kulhudhuffushi\n",
      "Processing Record 9 of Set 5 | qaanaaq\n",
      "Processing Record 10 of Set 5 | katangli\n",
      "Processing Record 11 of Set 5 | saint-augustin\n",
      "City not found. Skipping...\n",
      "Processing Record 12 of Set 5 | korla\n",
      "Processing Record 13 of Set 5 | belaya gora\n",
      "Processing Record 14 of Set 5 | shubarshi\n",
      "Processing Record 15 of Set 5 | beibei\n",
      "Processing Record 16 of Set 5 | derzhavinsk\n",
      "Processing Record 17 of Set 5 | abnub\n",
      "Processing Record 18 of Set 5 | asau\n",
      "Processing Record 19 of Set 5 | lata\n",
      "Processing Record 20 of Set 5 | arlit\n",
      "Processing Record 21 of Set 5 | eureka\n",
      "Processing Record 22 of Set 5 | los llanos de aridane\n",
      "Processing Record 23 of Set 5 | pangnirtung\n",
      "Processing Record 24 of Set 5 | husavik\n",
      "Processing Record 25 of Set 5 | san cristobal\n",
      "Processing Record 26 of Set 5 | lafia\n",
      "Processing Record 27 of Set 5 | yulara\n",
      "Processing Record 28 of Set 5 | ribeira grande\n",
      "Processing Record 29 of Set 5 | sola\n",
      "Processing Record 30 of Set 5 | kamaishi\n",
      "Processing Record 31 of Set 5 | gogrial\n",
      "Processing Record 32 of Set 5 | karpathos\n",
      "Processing Record 33 of Set 5 | sandomierz\n",
      "Processing Record 34 of Set 5 | ambanja\n",
      "Processing Record 35 of Set 5 | umm kaddadah\n",
      "Processing Record 36 of Set 5 | liverpool\n",
      "Processing Record 37 of Set 5 | acarau\n",
      "Processing Record 38 of Set 5 | svetlaya\n",
      "City not found. Skipping...\n",
      "Processing Record 39 of Set 5 | kruisfontein\n",
      "Processing Record 40 of Set 5 | tuatapere\n",
      "Processing Record 41 of Set 5 | hastings\n",
      "Processing Record 42 of Set 5 | salinas\n",
      "Processing Record 43 of Set 5 | padilla\n",
      "Processing Record 44 of Set 5 | tigil\n",
      "Processing Record 45 of Set 5 | bluefields\n",
      "Processing Record 46 of Set 5 | port-gentil\n",
      "Processing Record 47 of Set 5 | trinidad\n",
      "Processing Record 48 of Set 5 | khandyga\n",
      "Processing Record 49 of Set 5 | naze\n",
      "Processing Record 50 of Set 5 | sochi\n",
      "Processing Record 0 of Set 6 | skeldon\n",
      "Processing Record 1 of Set 6 | stokmarknes\n",
      "Processing Record 2 of Set 6 | aksarka\n",
      "Processing Record 3 of Set 6 | namwala\n",
      "City not found. Skipping...\n",
      "Processing Record 4 of Set 6 | coihaique\n",
      "Processing Record 5 of Set 6 | leningradskiy\n",
      "Processing Record 6 of Set 6 | kahului\n",
      "Processing Record 7 of Set 6 | mosquera\n",
      "Processing Record 8 of Set 6 | tari\n",
      "Processing Record 9 of Set 6 | san carlos de bariloche\n",
      "Processing Record 10 of Set 6 | camapua\n",
      "Processing Record 11 of Set 6 | jibuti\n",
      "Processing Record 12 of Set 6 | mehamn\n",
      "Processing Record 13 of Set 6 | los algarrobos\n",
      "Processing Record 14 of Set 6 | sambava\n",
      "Processing Record 15 of Set 6 | faanui\n",
      "Processing Record 16 of Set 6 | chincholi\n",
      "Processing Record 17 of Set 6 | turukhansk\n",
      "Processing Record 18 of Set 6 | hokitika\n",
      "City not found. Skipping...\n",
      "Processing Record 19 of Set 6 | nantucket\n",
      "Processing Record 20 of Set 6 | daru\n",
      "Processing Record 21 of Set 6 | keti bandar\n",
      "Processing Record 22 of Set 6 | cockburn town\n",
      "Processing Record 23 of Set 6 | mianyang\n",
      "Processing Record 24 of Set 6 | san jeronimo\n",
      "Processing Record 25 of Set 6 | galveston\n",
      "Processing Record 26 of Set 6 | dicabisagan\n",
      "Processing Record 27 of Set 6 | healdsburg\n",
      "Processing Record 28 of Set 6 | east london\n",
      "Processing Record 29 of Set 6 | placer\n",
      "Processing Record 30 of Set 6 | parati\n",
      "Processing Record 31 of Set 6 | copiapo\n",
      "Processing Record 32 of Set 6 | dargaville\n",
      "Processing Record 33 of Set 6 | dunedin\n",
      "Processing Record 34 of Set 6 | tecoanapa\n",
      "City not found. Skipping...\n",
      "Processing Record 35 of Set 6 | baghdad\n",
      "Processing Record 36 of Set 6 | martapura\n",
      "Processing Record 37 of Set 6 | bengkulu\n",
      "Processing Record 38 of Set 6 | clyde river\n",
      "Processing Record 39 of Set 6 | pando\n",
      "Processing Record 40 of Set 6 | westport\n",
      "City not found. Skipping...\n",
      "Processing Record 41 of Set 6 | plettenberg bay\n",
      "Processing Record 42 of Set 6 | alofi\n",
      "Processing Record 43 of Set 6 | adra\n",
      "Processing Record 44 of Set 6 | severo-kurilsk\n",
      "Processing Record 45 of Set 6 | skibotn\n",
      "Processing Record 46 of Set 6 | la ronge\n",
      "Processing Record 47 of Set 6 | cap malheureux\n",
      "Processing Record 48 of Set 6 | muli\n",
      "Processing Record 49 of Set 6 | santa maria\n",
      "Processing Record 50 of Set 6 | lorengau\n",
      "Processing Record 0 of Set 7 | otavi\n",
      "Processing Record 1 of Set 7 | wuwei\n",
      "Processing Record 2 of Set 7 | lethem\n",
      "Processing Record 3 of Set 7 | coro\n",
      "Processing Record 4 of Set 7 | arrah\n",
      "Processing Record 5 of Set 7 | mackenzie\n",
      "Processing Record 6 of Set 7 | berkovica\n",
      "Processing Record 7 of Set 7 | batagay\n",
      "Processing Record 8 of Set 7 | bellevue\n",
      "Processing Record 9 of Set 7 | yar-sale\n",
      "Processing Record 10 of Set 7 | abashiri\n",
      "Processing Record 11 of Set 7 | traverse city\n",
      "Processing Record 12 of Set 7 | ancud\n",
      "Processing Record 13 of Set 7 | meulaboh\n",
      "Processing Record 14 of Set 7 | furukawa\n",
      "Processing Record 15 of Set 7 | alekseyevskoye\n",
      "Processing Record 16 of Set 7 | caraballeda\n",
      "Processing Record 17 of Set 7 | troitsko-pechorsk\n",
      "Processing Record 18 of Set 7 | apatity\n",
      "Processing Record 19 of Set 7 | fountain\n",
      "Processing Record 20 of Set 7 | watertown\n",
      "City not found. Skipping...\n",
      "Processing Record 21 of Set 7 | saint-pierre\n",
      "Processing Record 22 of Set 7 | lompoc\n",
      "City not found. Skipping...\n",
      "Processing Record 23 of Set 7 | nisia floresta\n",
      "Processing Record 24 of Set 7 | samfya\n",
      "Processing Record 25 of Set 7 | moerai\n",
      "Processing Record 26 of Set 7 | eidfjord\n",
      "Processing Record 27 of Set 7 | celestun\n",
      "Processing Record 28 of Set 7 | zuenoula\n",
      "Processing Record 29 of Set 7 | nizamabad\n",
      "Processing Record 30 of Set 7 | bayangol\n",
      "Processing Record 31 of Set 7 | cambuci\n",
      "Processing Record 32 of Set 7 | buala\n",
      "Processing Record 33 of Set 7 | vila franca do campo\n",
      "Processing Record 34 of Set 7 | anadyr\n",
      "City not found. Skipping...\n",
      "Processing Record 35 of Set 7 | namibe\n",
      "City not found. Skipping...\n",
      "Processing Record 36 of Set 7 | saint anthony\n",
      "Processing Record 37 of Set 7 | la palma\n",
      "Processing Record 38 of Set 7 | polyarnyy\n",
      "Processing Record 39 of Set 7 | kurim\n",
      "Processing Record 40 of Set 7 | nhulunbuy\n",
      "Processing Record 41 of Set 7 | nanortalik\n",
      "Processing Record 42 of Set 7 | burnie\n",
      "Processing Record 43 of Set 7 | margherita\n",
      "Processing Record 44 of Set 7 | leshukonskoye\n",
      "Processing Record 45 of Set 7 | prieska\n",
      "City not found. Skipping...\n",
      "Processing Record 46 of Set 7 | antanifotsy\n",
      "Processing Record 47 of Set 7 | wakefield\n",
      "Processing Record 48 of Set 7 | beringovskiy\n",
      "Processing Record 49 of Set 7 | muroto\n",
      "Processing Record 50 of Set 7 | houma\n",
      "Processing Record 0 of Set 8 | urumqi\n",
      "Processing Record 1 of Set 8 | laksham\n",
      "Processing Record 2 of Set 8 | mmathubudukwane\n",
      "Processing Record 3 of Set 8 | coahuayana\n",
      "Processing Record 4 of Set 8 | dingle\n",
      "City not found. Skipping...\n",
      "Processing Record 5 of Set 8 | mayumba\n",
      "Processing Record 6 of Set 8 | alamosa\n",
      "Processing Record 7 of Set 8 | huarmey\n",
      "Processing Record 8 of Set 8 | sioux lookout\n",
      "Processing Record 9 of Set 8 | goulburn\n",
      "City not found. Skipping...\n",
      "Processing Record 10 of Set 8 | tucumcari\n",
      "Processing Record 11 of Set 8 | ostrovnoy\n",
      "Processing Record 12 of Set 8 | solnechnyy\n",
      "Processing Record 13 of Set 8 | waikuku\n",
      "Processing Record 14 of Set 8 | najran\n",
      "Processing Record 15 of Set 8 | van\n",
      "Processing Record 16 of Set 8 | arkhipo-osipovka\n",
      "Processing Record 17 of Set 8 | gallup\n",
      "City not found. Skipping...\n",
      "Processing Record 18 of Set 8 | nsanje\n",
      "Processing Record 19 of Set 8 | bonavista\n"
     ]
    },
    {
     "name": "stdout",
     "output_type": "stream",
     "text": [
      "Processing Record 20 of Set 8 | belousovka\n",
      "Processing Record 21 of Set 8 | caxito\n",
      "Processing Record 22 of Set 8 | cherskiy\n",
      "Processing Record 23 of Set 8 | malakal\n",
      "Processing Record 24 of Set 8 | rantepao\n",
      "Processing Record 25 of Set 8 | payson\n",
      "Processing Record 26 of Set 8 | chokurdakh\n",
      "Processing Record 27 of Set 8 | touros\n",
      "Processing Record 28 of Set 8 | waterford\n",
      "Processing Record 29 of Set 8 | kropotkin\n",
      "City not found. Skipping...\n",
      "Processing Record 30 of Set 8 | benghazi\n",
      "Processing Record 31 of Set 8 | cangzhou\n",
      "Processing Record 32 of Set 8 | college\n",
      "Processing Record 33 of Set 8 | esperance\n",
      "Processing Record 34 of Set 8 | padang\n",
      "Processing Record 35 of Set 8 | catamarca\n",
      "Processing Record 36 of Set 8 | san vicente\n",
      "Processing Record 37 of Set 8 | tocopilla\n",
      "City not found. Skipping...\n",
      "Processing Record 38 of Set 8 | santa clara\n",
      "Processing Record 39 of Set 8 | xicotencatl\n",
      "Processing Record 40 of Set 8 | borgo san dalmazzo\n",
      "City not found. Skipping...\n",
      "City not found. Skipping...\n",
      "Processing Record 41 of Set 8 | bukachacha\n",
      "Processing Record 42 of Set 8 | mnogovershinnyy\n",
      "Processing Record 43 of Set 8 | palmares do sul\n",
      "City not found. Skipping...\n",
      "Processing Record 44 of Set 8 | camacha\n",
      "City not found. Skipping...\n",
      "Processing Record 45 of Set 8 | sur\n",
      "Processing Record 46 of Set 8 | biloela\n",
      "Processing Record 47 of Set 8 | vyborg\n",
      "Processing Record 48 of Set 8 | manicore\n",
      "Processing Record 49 of Set 8 | doha\n",
      "Processing Record 50 of Set 8 | atar\n",
      "Processing Record 0 of Set 9 | kenai\n",
      "Processing Record 1 of Set 9 | sergeyevka\n",
      "Processing Record 2 of Set 9 | valparaiso\n",
      "Processing Record 3 of Set 9 | kang\n",
      "Processing Record 4 of Set 9 | impfondo\n",
      "Processing Record 5 of Set 9 | novyy buh\n",
      "Processing Record 6 of Set 9 | matveyevka\n",
      "Processing Record 7 of Set 9 | bodden town\n",
      "Processing Record 8 of Set 9 | sindor\n",
      "Processing Record 9 of Set 9 | rusape\n",
      "Processing Record 10 of Set 9 | carutapera\n",
      "Processing Record 11 of Set 9 | rumonge\n",
      "Processing Record 12 of Set 9 | bemidji\n",
      "Processing Record 13 of Set 9 | imeni poliny osipenko\n",
      "Processing Record 14 of Set 9 | parkes\n",
      "Processing Record 15 of Set 9 | udachnyy\n",
      "Processing Record 16 of Set 9 | biak\n",
      "Processing Record 17 of Set 9 | mindelo\n",
      "Processing Record 18 of Set 9 | thinadhoo\n",
      "Processing Record 19 of Set 9 | manaira\n",
      "Processing Record 20 of Set 9 | russell\n",
      "Processing Record 21 of Set 9 | nogliki\n",
      "Processing Record 22 of Set 9 | pathein\n",
      "City not found. Skipping...\n",
      "Processing Record 23 of Set 9 | te anau\n",
      "Processing Record 24 of Set 9 | zaragoza\n",
      "Processing Record 25 of Set 9 | dakar\n",
      "Processing Record 26 of Set 9 | luderitz\n",
      "Processing Record 27 of Set 9 | port hedland\n",
      "Processing Record 28 of Set 9 | aras\n",
      "Processing Record 29 of Set 9 | victoria\n",
      "Processing Record 30 of Set 9 | la rioja\n",
      "Processing Record 31 of Set 9 | puerto ayacucho\n",
      "Processing Record 32 of Set 9 | hurricane\n",
      "Processing Record 33 of Set 9 | bud\n",
      "Processing Record 34 of Set 9 | lagoa\n",
      "Processing Record 35 of Set 9 | hjelset\n",
      "Processing Record 36 of Set 9 | edd\n",
      "Processing Record 37 of Set 9 | coquimbo\n",
      "Processing Record 38 of Set 9 | bowen\n",
      "Processing Record 39 of Set 9 | mount gambier\n",
      "Processing Record 40 of Set 9 | san quintin\n",
      "Processing Record 41 of Set 9 | bamiantong\n",
      "Processing Record 42 of Set 9 | dangriga\n",
      "Processing Record 43 of Set 9 | sao filipe\n",
      "Processing Record 44 of Set 9 | smithers\n",
      "Processing Record 45 of Set 9 | xuddur\n",
      "Processing Record 46 of Set 9 | praia da vitoria\n",
      "Processing Record 47 of Set 9 | okhotsk\n",
      "Processing Record 48 of Set 9 | mahanje\n",
      "Processing Record 49 of Set 9 | santiago del estero\n",
      "Processing Record 50 of Set 9 | ravar\n",
      "City not found. Skipping...\n",
      "Processing Record 0 of Set 10 | harlingen\n",
      "City not found. Skipping...\n",
      "Processing Record 1 of Set 10 | urengoy\n",
      "Processing Record 2 of Set 10 | maniitsoq\n",
      "Processing Record 3 of Set 10 | ronneby\n",
      "Processing Record 4 of Set 10 | kiama\n",
      "Processing Record 5 of Set 10 | fare\n",
      "Processing Record 6 of Set 10 | margate\n",
      "Processing Record 7 of Set 10 | acapulco\n",
      "Processing Record 8 of Set 10 | ayr\n",
      "Processing Record 9 of Set 10 | biggar\n",
      "Processing Record 10 of Set 10 | mandera\n",
      "Processing Record 11 of Set 10 | churapcha\n",
      "Processing Record 12 of Set 10 | slave lake\n",
      "Processing Record 13 of Set 10 | qasigiannguit\n",
      "City not found. Skipping...\n",
      "Processing Record 14 of Set 10 | chatham\n",
      "Processing Record 15 of Set 10 | fort nelson\n",
      "Processing Record 16 of Set 10 | haimen\n",
      "Processing Record 17 of Set 10 | omsukchan\n",
      "Processing Record 18 of Set 10 | texarkana\n",
      "Processing Record 19 of Set 10 | vila velha\n",
      "Processing Record 20 of Set 10 | bikin\n",
      "Processing Record 21 of Set 10 | kuytun\n",
      "Processing Record 22 of Set 10 | ahuimanu\n",
      "Processing Record 23 of Set 10 | el carmen\n",
      "Processing Record 24 of Set 10 | roma\n",
      "City not found. Skipping...\n",
      "City not found. Skipping...\n",
      "Processing Record 25 of Set 10 | ulagan\n",
      "Processing Record 26 of Set 10 | huilong\n",
      "City not found. Skipping...\n",
      "Processing Record 27 of Set 10 | mackay\n",
      "Processing Record 28 of Set 10 | fortuna\n",
      "Processing Record 29 of Set 10 | sampit\n",
      "Processing Record 30 of Set 10 | buchanan\n",
      "Processing Record 31 of Set 10 | maldonado\n",
      "Processing Record 32 of Set 10 | caravelas\n",
      "Processing Record 33 of Set 10 | saqqez\n",
      "Processing Record 34 of Set 10 | magistralnyy\n",
      "Processing Record 35 of Set 10 | miandrivazo\n",
      "Processing Record 36 of Set 10 | teguldet\n",
      "Processing Record 37 of Set 10 | ilovlya\n",
      "Processing Record 38 of Set 10 | pemangkat\n",
      "Processing Record 39 of Set 10 | xichang\n",
      "Processing Record 40 of Set 10 | sulphur\n",
      "Processing Record 41 of Set 10 | villazon\n",
      "Processing Record 42 of Set 10 | salalah\n",
      "Processing Record 43 of Set 10 | mildura\n",
      "Processing Record 44 of Set 10 | mill valley\n",
      "City not found. Skipping...\n",
      "Processing Record 45 of Set 10 | velsk\n",
      "Processing Record 46 of Set 10 | khandbari\n",
      "City not found. Skipping...\n",
      "Processing Record 47 of Set 10 | pangai\n",
      "Processing Record 48 of Set 10 | ranong\n",
      "Processing Record 49 of Set 10 | jacmel\n",
      "Processing Record 50 of Set 10 | kazerun\n",
      "Processing Record 0 of Set 11 | melita\n",
      "Processing Record 1 of Set 11 | loa janan\n",
      "Processing Record 2 of Set 11 | bilibino\n",
      "Processing Record 3 of Set 11 | alice springs\n",
      "City not found. Skipping...\n",
      "Processing Record 4 of Set 11 | poum\n",
      "Processing Record 5 of Set 11 | portland\n",
      "Processing Record 6 of Set 11 | batagay-alyta\n",
      "Processing Record 7 of Set 11 | banda aceh\n",
      "Processing Record 8 of Set 11 | egvekinot\n",
      "Processing Record 9 of Set 11 | kalmunai\n",
      "Processing Record 10 of Set 11 | pimentel\n",
      "Processing Record 11 of Set 11 | alyangula\n",
      "Processing Record 12 of Set 11 | knysna\n",
      "Processing Record 13 of Set 11 | ausa\n",
      "Processing Record 14 of Set 11 | boyolangu\n",
      "Processing Record 15 of Set 11 | volkhov\n",
      "Processing Record 16 of Set 11 | laguna\n",
      "Processing Record 17 of Set 11 | grand gaube\n",
      "Processing Record 18 of Set 11 | beloha\n",
      "Processing Record 19 of Set 11 | beyneu\n",
      "Processing Record 20 of Set 11 | abbeville\n",
      "Processing Record 21 of Set 11 | kitimat\n",
      "City not found. Skipping...\n",
      "Processing Record 22 of Set 11 | pisco\n",
      "Processing Record 23 of Set 11 | bafq\n",
      "Processing Record 24 of Set 11 | moose factory\n",
      "Processing Record 25 of Set 11 | el silencio\n",
      "Processing Record 26 of Set 11 | florianopolis\n",
      "Processing Record 27 of Set 11 | pag\n",
      "Processing Record 28 of Set 11 | bambous virieux\n",
      "Processing Record 29 of Set 11 | purificacion\n",
      "Processing Record 30 of Set 11 | nuuk\n",
      "Processing Record 31 of Set 11 | alaca\n",
      "Processing Record 32 of Set 11 | skagen\n",
      "Processing Record 33 of Set 11 | bijie\n",
      "Processing Record 34 of Set 11 | kholtoson\n"
     ]
    }
   ],
   "source": [
    "# Base url to call the Open Weather Map API\n",
    "url = \"http://api.openweathermap.org/data/2.5/weather?\"\n",
    "\n",
    "# Initialize lists that will be used for DataFrame\n",
    "new_city = []\n",
    "new_lat = []\n",
    "new_lng = []\n",
    "maxtemp = []\n",
    "humidity = []\n",
    "cloudiness = []\n",
    "windspeed = []\n",
    "country = []\n",
    "date = []\n",
    "record_count = 1\n",
    "set_count = 1\n",
    "\n",
    "print(\"Beginning Data Retrieval\")   \n",
    "print(\"-----------------------------\")\n",
    "\n",
    "# For loop to iterate through the cities and print out a log of each city\n",
    "for city in cities:\n",
    "    \n",
    "    # Build query URL\n",
    "    query_url = url + \"q=\" + city + \"&appid=\" + weather_api_key\n",
    "\n",
    "    # Request API and format to json\n",
    "    response = requests.get(query_url)\n",
    "    weather_json = response.json()\n",
    "\n",
    "    try: \n",
    "        new_city.append(weather_json[\"name\"])\n",
    "        new_lat.append(weather_json[\"coord\"][\"lat\"])\n",
    "        new_lng.append(weather_json[\"coord\"][\"lon\"])\n",
    "        maxtemp.append((weather_json[\"main\"][\"temp_max\"]-273.15)*1.8+32)\n",
    "        humidity.append(weather_json[\"main\"][\"humidity\"])\n",
    "        cloudiness.append(weather_json[\"clouds\"][\"all\"])\n",
    "        windspeed.append(weather_json[\"wind\"][\"speed\"])\n",
    "        country.append(weather_json[\"sys\"][\"country\"])\n",
    "        date.append(weather_json[\"dt\"])\n",
    "    \n",
    "        print(f\"Processing Record {record_count} of Set {set_count} | {city}\")\n",
    "        record_count = record_count + 1 \n",
    "        if record_count == 51:\n",
    "            set_count = set_count + 1\n",
    "            record_count = 0\n",
    "    except KeyError:\n",
    "        print(\"City not found. Skipping...\")\n"
   ]
  },
  {
   "cell_type": "markdown",
   "metadata": {},
   "source": [
    "### Convert Raw Data to DataFrame\n",
    "* Export the city data into a .csv.\n",
    "* Display the DataFrame"
   ]
  },
  {
   "cell_type": "code",
   "execution_count": 5,
   "metadata": {},
   "outputs": [],
   "source": [
    "city_weather_df = pd.DataFrame({\"City\":new_city,\n",
    "                               \"Lat\":new_lat,\n",
    "                               \"Lng\":new_lng,\n",
    "                               \"Max Temp\":maxtemp,\n",
    "                               \"Humidity\":humidity,\n",
    "                               \"Cloudiness\":cloudiness,\n",
    "                               \"Wind Speed\":windspeed,\n",
    "                               \"Country\":country,\n",
    "                               \"Date\":date})\n",
    "city_weather_df.to_csv(\"weather.csv\",index=False)"
   ]
  },
  {
   "cell_type": "code",
   "execution_count": 6,
   "metadata": {},
   "outputs": [
    {
     "data": {
      "text/html": [
       "<div>\n",
       "<style scoped>\n",
       "    .dataframe tbody tr th:only-of-type {\n",
       "        vertical-align: middle;\n",
       "    }\n",
       "\n",
       "    .dataframe tbody tr th {\n",
       "        vertical-align: top;\n",
       "    }\n",
       "\n",
       "    .dataframe thead th {\n",
       "        text-align: right;\n",
       "    }\n",
       "</style>\n",
       "<table border=\"1\" class=\"dataframe\">\n",
       "  <thead>\n",
       "    <tr style=\"text-align: right;\">\n",
       "      <th></th>\n",
       "      <th>City</th>\n",
       "      <th>Lat</th>\n",
       "      <th>Lng</th>\n",
       "      <th>Max Temp</th>\n",
       "      <th>Humidity</th>\n",
       "      <th>Cloudiness</th>\n",
       "      <th>Wind Speed</th>\n",
       "      <th>Country</th>\n",
       "      <th>Date</th>\n",
       "    </tr>\n",
       "  </thead>\n",
       "  <tbody>\n",
       "    <tr>\n",
       "      <th>0</th>\n",
       "      <td>Butaritari</td>\n",
       "      <td>3.07</td>\n",
       "      <td>172.79</td>\n",
       "      <td>79.322</td>\n",
       "      <td>78</td>\n",
       "      <td>99</td>\n",
       "      <td>4.51</td>\n",
       "      <td>KI</td>\n",
       "      <td>1595351040</td>\n",
       "    </tr>\n",
       "    <tr>\n",
       "      <th>1</th>\n",
       "      <td>Kununurra</td>\n",
       "      <td>-15.77</td>\n",
       "      <td>128.73</td>\n",
       "      <td>57.200</td>\n",
       "      <td>30</td>\n",
       "      <td>37</td>\n",
       "      <td>4.09</td>\n",
       "      <td>AU</td>\n",
       "      <td>1595351230</td>\n",
       "    </tr>\n",
       "    <tr>\n",
       "      <th>2</th>\n",
       "      <td>Vaini</td>\n",
       "      <td>-21.20</td>\n",
       "      <td>-175.20</td>\n",
       "      <td>57.200</td>\n",
       "      <td>100</td>\n",
       "      <td>20</td>\n",
       "      <td>1.13</td>\n",
       "      <td>TO</td>\n",
       "      <td>1595351043</td>\n",
       "    </tr>\n",
       "    <tr>\n",
       "      <th>3</th>\n",
       "      <td>Cidreira</td>\n",
       "      <td>-30.18</td>\n",
       "      <td>-50.21</td>\n",
       "      <td>73.274</td>\n",
       "      <td>64</td>\n",
       "      <td>53</td>\n",
       "      <td>1.32</td>\n",
       "      <td>BR</td>\n",
       "      <td>1595351230</td>\n",
       "    </tr>\n",
       "    <tr>\n",
       "      <th>4</th>\n",
       "      <td>Ushuaia</td>\n",
       "      <td>-54.80</td>\n",
       "      <td>-68.30</td>\n",
       "      <td>33.800</td>\n",
       "      <td>100</td>\n",
       "      <td>52</td>\n",
       "      <td>1.50</td>\n",
       "      <td>AR</td>\n",
       "      <td>1595351015</td>\n",
       "    </tr>\n",
       "  </tbody>\n",
       "</table>\n",
       "</div>"
      ],
      "text/plain": [
       "         City    Lat     Lng  Max Temp  Humidity  Cloudiness  Wind Speed  \\\n",
       "0  Butaritari   3.07  172.79    79.322        78          99        4.51   \n",
       "1   Kununurra -15.77  128.73    57.200        30          37        4.09   \n",
       "2       Vaini -21.20 -175.20    57.200       100          20        1.13   \n",
       "3    Cidreira -30.18  -50.21    73.274        64          53        1.32   \n",
       "4     Ushuaia -54.80  -68.30    33.800       100          52        1.50   \n",
       "\n",
       "  Country        Date  \n",
       "0      KI  1595351040  \n",
       "1      AU  1595351230  \n",
       "2      TO  1595351043  \n",
       "3      BR  1595351230  \n",
       "4      AR  1595351015  "
      ]
     },
     "execution_count": 6,
     "metadata": {},
     "output_type": "execute_result"
    }
   ],
   "source": [
    "city_weather_df.head()"
   ]
  },
  {
   "cell_type": "markdown",
   "metadata": {},
   "source": [
    "## Inspect the data and remove the cities where the humidity > 100%.\n",
    "----\n",
    "Skip this step if there are no cities that have humidity > 100%. "
   ]
  },
  {
   "cell_type": "code",
   "execution_count": 8,
   "metadata": {},
   "outputs": [
    {
     "data": {
      "text/html": [
       "<div>\n",
       "<style scoped>\n",
       "    .dataframe tbody tr th:only-of-type {\n",
       "        vertical-align: middle;\n",
       "    }\n",
       "\n",
       "    .dataframe tbody tr th {\n",
       "        vertical-align: top;\n",
       "    }\n",
       "\n",
       "    .dataframe thead th {\n",
       "        text-align: right;\n",
       "    }\n",
       "</style>\n",
       "<table border=\"1\" class=\"dataframe\">\n",
       "  <thead>\n",
       "    <tr style=\"text-align: right;\">\n",
       "      <th></th>\n",
       "      <th>City</th>\n",
       "      <th>Lat</th>\n",
       "      <th>Lng</th>\n",
       "      <th>Max Temp</th>\n",
       "      <th>Humidity</th>\n",
       "      <th>Cloudiness</th>\n",
       "      <th>Wind Speed</th>\n",
       "      <th>Country</th>\n",
       "      <th>Date</th>\n",
       "    </tr>\n",
       "  </thead>\n",
       "  <tbody>\n",
       "  </tbody>\n",
       "</table>\n",
       "</div>"
      ],
      "text/plain": [
       "Empty DataFrame\n",
       "Columns: [City, Lat, Lng, Max Temp, Humidity, Cloudiness, Wind Speed, Country, Date]\n",
       "Index: []"
      ]
     },
     "execution_count": 8,
     "metadata": {},
     "output_type": "execute_result"
    }
   ],
   "source": [
    "# Check if there's any data with humidity over 100%\n",
    "high_humidity = city_weather_df[city_weather_df[\"Humidity\"]>100]\n",
    "high_humidity.head()\n",
    "\n",
    "# Since no data returned, I'm skipping this step"
   ]
  },
  {
   "cell_type": "code",
   "execution_count": 10,
   "metadata": {},
   "outputs": [
    {
     "data": {
      "text/plain": [
       "Int64Index([], dtype='int64')"
      ]
     },
     "execution_count": 10,
     "metadata": {},
     "output_type": "execute_result"
    }
   ],
   "source": [
    "#  Get the indices of cities that have humidity over 100%.\n",
    "index = city_weather_df[city_weather_df[\"Humidity\"]>100].index\n",
    "index"
   ]
  },
  {
   "cell_type": "code",
   "execution_count": 12,
   "metadata": {},
   "outputs": [
    {
     "data": {
      "text/html": [
       "<div>\n",
       "<style scoped>\n",
       "    .dataframe tbody tr th:only-of-type {\n",
       "        vertical-align: middle;\n",
       "    }\n",
       "\n",
       "    .dataframe tbody tr th {\n",
       "        vertical-align: top;\n",
       "    }\n",
       "\n",
       "    .dataframe thead th {\n",
       "        text-align: right;\n",
       "    }\n",
       "</style>\n",
       "<table border=\"1\" class=\"dataframe\">\n",
       "  <thead>\n",
       "    <tr style=\"text-align: right;\">\n",
       "      <th></th>\n",
       "      <th>City</th>\n",
       "      <th>Lat</th>\n",
       "      <th>Lng</th>\n",
       "      <th>Max Temp</th>\n",
       "      <th>Humidity</th>\n",
       "      <th>Cloudiness</th>\n",
       "      <th>Wind Speed</th>\n",
       "      <th>Country</th>\n",
       "      <th>Date</th>\n",
       "    </tr>\n",
       "  </thead>\n",
       "  <tbody>\n",
       "    <tr>\n",
       "      <th>0</th>\n",
       "      <td>Butaritari</td>\n",
       "      <td>3.07</td>\n",
       "      <td>172.79</td>\n",
       "      <td>79.322</td>\n",
       "      <td>78</td>\n",
       "      <td>99</td>\n",
       "      <td>4.51</td>\n",
       "      <td>KI</td>\n",
       "      <td>1595351040</td>\n",
       "    </tr>\n",
       "    <tr>\n",
       "      <th>1</th>\n",
       "      <td>Kununurra</td>\n",
       "      <td>-15.77</td>\n",
       "      <td>128.73</td>\n",
       "      <td>57.200</td>\n",
       "      <td>30</td>\n",
       "      <td>37</td>\n",
       "      <td>4.09</td>\n",
       "      <td>AU</td>\n",
       "      <td>1595351230</td>\n",
       "    </tr>\n",
       "    <tr>\n",
       "      <th>2</th>\n",
       "      <td>Vaini</td>\n",
       "      <td>-21.20</td>\n",
       "      <td>-175.20</td>\n",
       "      <td>57.200</td>\n",
       "      <td>100</td>\n",
       "      <td>20</td>\n",
       "      <td>1.13</td>\n",
       "      <td>TO</td>\n",
       "      <td>1595351043</td>\n",
       "    </tr>\n",
       "    <tr>\n",
       "      <th>3</th>\n",
       "      <td>Cidreira</td>\n",
       "      <td>-30.18</td>\n",
       "      <td>-50.21</td>\n",
       "      <td>73.274</td>\n",
       "      <td>64</td>\n",
       "      <td>53</td>\n",
       "      <td>1.32</td>\n",
       "      <td>BR</td>\n",
       "      <td>1595351230</td>\n",
       "    </tr>\n",
       "    <tr>\n",
       "      <th>4</th>\n",
       "      <td>Ushuaia</td>\n",
       "      <td>-54.80</td>\n",
       "      <td>-68.30</td>\n",
       "      <td>33.800</td>\n",
       "      <td>100</td>\n",
       "      <td>52</td>\n",
       "      <td>1.50</td>\n",
       "      <td>AR</td>\n",
       "      <td>1595351015</td>\n",
       "    </tr>\n",
       "    <tr>\n",
       "      <th>...</th>\n",
       "      <td>...</td>\n",
       "      <td>...</td>\n",
       "      <td>...</td>\n",
       "      <td>...</td>\n",
       "      <td>...</td>\n",
       "      <td>...</td>\n",
       "      <td>...</td>\n",
       "      <td>...</td>\n",
       "      <td>...</td>\n",
       "    </tr>\n",
       "    <tr>\n",
       "      <th>539</th>\n",
       "      <td>Nuuk</td>\n",
       "      <td>64.18</td>\n",
       "      <td>-51.72</td>\n",
       "      <td>55.004</td>\n",
       "      <td>71</td>\n",
       "      <td>75</td>\n",
       "      <td>5.10</td>\n",
       "      <td>GL</td>\n",
       "      <td>1595350987</td>\n",
       "    </tr>\n",
       "    <tr>\n",
       "      <th>540</th>\n",
       "      <td>Alaca</td>\n",
       "      <td>40.17</td>\n",
       "      <td>34.84</td>\n",
       "      <td>69.728</td>\n",
       "      <td>60</td>\n",
       "      <td>12</td>\n",
       "      <td>4.75</td>\n",
       "      <td>TR</td>\n",
       "      <td>1595351278</td>\n",
       "    </tr>\n",
       "    <tr>\n",
       "      <th>541</th>\n",
       "      <td>Skagen</td>\n",
       "      <td>57.72</td>\n",
       "      <td>10.58</td>\n",
       "      <td>64.004</td>\n",
       "      <td>71</td>\n",
       "      <td>0</td>\n",
       "      <td>9.83</td>\n",
       "      <td>DK</td>\n",
       "      <td>1595351278</td>\n",
       "    </tr>\n",
       "    <tr>\n",
       "      <th>542</th>\n",
       "      <td>Bijie</td>\n",
       "      <td>27.31</td>\n",
       "      <td>105.29</td>\n",
       "      <td>66.506</td>\n",
       "      <td>91</td>\n",
       "      <td>100</td>\n",
       "      <td>4.60</td>\n",
       "      <td>CN</td>\n",
       "      <td>1595351279</td>\n",
       "    </tr>\n",
       "    <tr>\n",
       "      <th>543</th>\n",
       "      <td>Kholtoson</td>\n",
       "      <td>50.30</td>\n",
       "      <td>103.31</td>\n",
       "      <td>58.046</td>\n",
       "      <td>75</td>\n",
       "      <td>37</td>\n",
       "      <td>1.10</td>\n",
       "      <td>RU</td>\n",
       "      <td>1595351279</td>\n",
       "    </tr>\n",
       "  </tbody>\n",
       "</table>\n",
       "<p>544 rows × 9 columns</p>\n",
       "</div>"
      ],
      "text/plain": [
       "           City    Lat     Lng  Max Temp  Humidity  Cloudiness  Wind Speed  \\\n",
       "0    Butaritari   3.07  172.79    79.322        78          99        4.51   \n",
       "1     Kununurra -15.77  128.73    57.200        30          37        4.09   \n",
       "2         Vaini -21.20 -175.20    57.200       100          20        1.13   \n",
       "3      Cidreira -30.18  -50.21    73.274        64          53        1.32   \n",
       "4       Ushuaia -54.80  -68.30    33.800       100          52        1.50   \n",
       "..          ...    ...     ...       ...       ...         ...         ...   \n",
       "539        Nuuk  64.18  -51.72    55.004        71          75        5.10   \n",
       "540       Alaca  40.17   34.84    69.728        60          12        4.75   \n",
       "541      Skagen  57.72   10.58    64.004        71           0        9.83   \n",
       "542       Bijie  27.31  105.29    66.506        91         100        4.60   \n",
       "543   Kholtoson  50.30  103.31    58.046        75          37        1.10   \n",
       "\n",
       "    Country        Date  \n",
       "0        KI  1595351040  \n",
       "1        AU  1595351230  \n",
       "2        TO  1595351043  \n",
       "3        BR  1595351230  \n",
       "4        AR  1595351015  \n",
       "..      ...         ...  \n",
       "539      GL  1595350987  \n",
       "540      TR  1595351278  \n",
       "541      DK  1595351278  \n",
       "542      CN  1595351279  \n",
       "543      RU  1595351279  \n",
       "\n",
       "[544 rows x 9 columns]"
      ]
     },
     "execution_count": 12,
     "metadata": {},
     "output_type": "execute_result"
    }
   ],
   "source": [
    "# Make a new DataFrame equal to the city data to drop all humidity outliers by index.\n",
    "# Passing \"inplace=False\" will make a copy of the city_data DataFrame, which we call \"clean_city_data\".\n",
    "\n",
    "clean_city_data = city_weather_df.drop(index,inplace=False)\n"
   ]
  },
  {
   "cell_type": "code",
   "execution_count": 9,
   "metadata": {},
   "outputs": [],
   "source": [
    "# Extract relevant fields from the data frame\n",
    "\n",
    "\n",
    "# Export the City_Data into a csv\n"
   ]
  },
  {
   "cell_type": "markdown",
   "metadata": {},
   "source": [
    "## Plotting the Data\n",
    "* Use proper labeling of the plots using plot titles (including date of analysis) and axes labels.\n",
    "* Save the plotted figures as .pngs."
   ]
  },
  {
   "cell_type": "markdown",
   "metadata": {},
   "source": [
    "## Latitude vs. Temperature Plot"
   ]
  },
  {
   "cell_type": "code",
   "execution_count": 10,
   "metadata": {},
   "outputs": [
    {
     "data": {
      "image/png": "[encoded data removed]",
      "text/plain": [
       "<Figure size 432x288 with 1 Axes>"
      ]
     },
     "metadata": {
      "needs_background": "light"
     },
     "output_type": "display_data"
    }
   ],
   "source": [
    "plt.scatter(city_weather_df[\"Lat\"],city_weather_df[\"Max Temp\"],edgecolor = \"black\")\n",
    "plt.title('City Latitude vs. Max Temperature (07/19/20)')\n",
    "plt.xlabel(\"Latitude\")\n",
    "plt.ylabel(\"Max Temperature (F)\")\n",
    "plt.grid(True)\n",
    "\n",
    "# Save the figure\n",
    "plt.savefig(\"Figures/MaxTemp.png\")\n",
    "plt.show()"
   ]
  },
  {
   "cell_type": "markdown",
   "metadata": {},
   "source": [
    "Going from the southern to northern hemisphere, the max temperature peaks at around 20 latitude line."
   ]
  },
  {
   "cell_type": "markdown",
   "metadata": {},
   "source": [
    "## Latitude vs. Humidity Plot"
   ]
  },
  {
   "cell_type": "code",
   "execution_count": 11,
   "metadata": {},
   "outputs": [
    {
     "data": {
      "image/png": "[encoded data removed]",
      "text/plain": [
       "<Figure size 432x288 with 1 Axes>"
      ]
     },
     "metadata": {
      "needs_background": "light"
     },
     "output_type": "display_data"
    }
   ],
   "source": [
    "plt.scatter(city_weather_df[\"Lat\"],city_weather_df[\"Humidity\"],edgecolor = \"black\")\n",
    "plt.title('City Latitude vs. Humidity (07/19/20)')\n",
    "plt.xlabel(\"Latitude\")\n",
    "plt.ylabel(\"Humidity (%)\")\n",
    "plt.grid(True)\n",
    "\n",
    "# Save the figure\n",
    "plt.savefig(\"Figures/humidity.png\")\n",
    "plt.show()"
   ]
  },
  {
   "cell_type": "markdown",
   "metadata": {},
   "source": [
    "This scatter plot doesn't show a correlation between humidity and latitude. However, around the equator, there is no observable locations with low humidity."
   ]
  },
  {
   "cell_type": "markdown",
   "metadata": {},
   "source": [
    "## Latitude vs. Cloudiness Plot"
   ]
  },
  {
   "cell_type": "code",
   "execution_count": 12,
   "metadata": {},
   "outputs": [
    {
     "data": {
      "image/png": "[encoded data removed]",
      "text/plain": [
       "<Figure size 432x288 with 1 Axes>"
      ]
     },
     "metadata": {
      "needs_background": "light"
     },
     "output_type": "display_data"
    }
   ],
   "source": [
    "plt.scatter(city_weather_df[\"Lat\"],city_weather_df[\"Cloudiness\"],edgecolor = \"black\")\n",
    "plt.title('City Latitude vs. Cloudiness (07/19/20)')\n",
    "plt.xlabel(\"Latitude\")\n",
    "plt.ylabel(\"Cloudiness\")\n",
    "plt.grid(True)\n",
    "\n",
    "# Save the figure\n",
    "plt.savefig(\"Figures/cloudiness.png\")\n",
    "plt.show()"
   ]
  },
  {
   "cell_type": "markdown",
   "metadata": {},
   "source": [
    "This scatter plot doesn't show a correlation between cloudiness and latitude."
   ]
  },
  {
   "cell_type": "markdown",
   "metadata": {},
   "source": [
    "## Latitude vs. Wind Speed Plot"
   ]
  },
  {
   "cell_type": "code",
   "execution_count": 13,
   "metadata": {},
   "outputs": [
    {
     "data": {
      "image/png": "[encoded data removed]",
      "text/plain": [
       "<Figure size 432x288 with 1 Axes>"
      ]
     },
     "metadata": {
      "needs_background": "light"
     },
     "output_type": "display_data"
    }
   ],
   "source": [
    "plt.scatter(city_weather_df[\"Lat\"],city_weather_df[\"Wind Speed\"],edgecolor = \"black\")\n",
    "plt.title('City Latitude vs. Wind Speed (07/19/20)')\n",
    "plt.xlabel(\"Latitude\")\n",
    "plt.ylabel(\"Wind Speed (mph)\")\n",
    "plt.grid(True)\n",
    "\n",
    "# Save the figure\n",
    "plt.savefig(\"Figures/windspeed.png\")\n",
    "plt.show()"
   ]
  },
  {
   "cell_type": "markdown",
   "metadata": {},
   "source": [
    "This scatter plot doesn't show a correlation between wind speed and latitude."
   ]
  },
  {
   "cell_type": "markdown",
   "metadata": {},
   "source": [
    "## Linear Regression"
   ]
  },
  {
   "cell_type": "code",
   "execution_count": 14,
   "metadata": {},
   "outputs": [],
   "source": [
    "# OPTIONAL: Create a function to create Linear Regression plots"
   ]
  },
  {
   "cell_type": "code",
   "execution_count": 14,
   "metadata": {},
   "outputs": [],
   "source": [
    "# Create Northern and Southern Hemisphere DataFrames\n",
    "northern_df = city_weather_df[city_weather_df[\"Lat\"]>0]\n",
    "northern_df = northern_df.reset_index(drop=True)\n",
    "\n",
    "\n",
    "southern_df = city_weather_df[city_weather_df[\"Lat\"]<0]\n",
    "southern_df = southern_df.reset_index(drop=True)\n"
   ]
  },
  {
   "cell_type": "markdown",
   "metadata": {},
   "source": [
    "####  Northern Hemisphere - Max Temp vs. Latitude Linear Regression"
   ]
  },
  {
   "cell_type": "code",
   "execution_count": 16,
   "metadata": {},
   "outputs": [
    {
     "name": "stdout",
     "output_type": "stream",
     "text": [
      "The correlation between both factors is -0.67\n"
     ]
    },
    {
     "data": {
      "image/png": "[encoded data removed]",
      "text/plain": [
       "<Figure size 432x288 with 1 Axes>"
      ]
     },
     "metadata": {
      "needs_background": "light"
     },
     "output_type": "display_data"
    }
   ],
   "source": [
    "correlation = st.pearsonr(northern_df[\"Lat\"],northern_df[\"Max Temp\"])\n",
    "print(f\"The correlation between both factors is {round(correlation[0],2)}\")\n",
    "\n",
    "(slope, intercept, rvalue, pvalue, stderr) = st.linregress(northern_df[\"Lat\"],northern_df[\"Max Temp\"])\n",
    "regress_values = northern_df[\"Lat\"] * slope + intercept\n",
    "line_eq = \"y = \" + str(round(slope,2)) + \"x + \" + str(round(intercept,2))\n",
    "plt.scatter(northern_df[\"Lat\"],northern_df[\"Max Temp\"])\n",
    "plt.plot(northern_df[\"Lat\"],regress_values,\"r-\")\n",
    "plt.annotate(line_eq,(10,50),fontsize=14,color=\"red\")\n",
    "\n",
    "\n",
    "plt.xlabel(\"Latitude\")\n",
    "plt.ylabel(\"Max Temp\")\n",
    "\n",
    "# Save the figure\n",
    "plt.savefig(\"Figures/NorthMaxTempRegression.png\")\n",
    "plt.show()"
   ]
  },
  {
   "cell_type": "markdown",
   "metadata": {},
   "source": [
    "####  Southern Hemisphere - Max Temp vs. Latitude Linear Regression"
   ]
  },
  {
   "cell_type": "code",
   "execution_count": 17,
   "metadata": {},
   "outputs": [
    {
     "name": "stdout",
     "output_type": "stream",
     "text": [
      "The correlation between both factors is 0.75\n"
     ]
    },
    {
     "data": {
      "image/png": "[encoded data removed]",
      "text/plain": [
       "<Figure size 432x288 with 1 Axes>"
      ]
     },
     "metadata": {
      "needs_background": "light"
     },
     "output_type": "display_data"
    }
   ],
   "source": [
    "correlation = st.pearsonr(southern_df[\"Lat\"],southern_df[\"Max Temp\"])\n",
    "print(f\"The correlation between both factors is {round(correlation[0],2)}\")\n",
    "\n",
    "(slope, intercept, rvalue, pvalue, stderr) = st.linregress(southern_df[\"Lat\"],southern_df[\"Max Temp\"])\n",
    "regress_values = southern_df[\"Lat\"] * slope + intercept\n",
    "line_eq = \"y = \" + str(round(slope,2)) + \"x + \" + str(round(intercept,2))\n",
    "plt.scatter(southern_df[\"Lat\"],southern_df[\"Max Temp\"])\n",
    "plt.plot(southern_df[\"Lat\"],regress_values,\"r-\")\n",
    "plt.annotate(line_eq,(-50,30),fontsize=14,color=\"red\")\n",
    "\n",
    "\n",
    "plt.xlabel(\"Latitude\")\n",
    "plt.ylabel(\"Max Temp\")\n",
    "\n",
    "# Save the figure\n",
    "plt.savefig(\"Figures/SouthMaxTempRegression.png\")\n",
    "plt.show()"
   ]
  },
  {
   "cell_type": "markdown",
   "metadata": {},
   "source": [
    "####  Northern Hemisphere - Humidity (%) vs. Latitude Linear Regression"
   ]
  },
  {
   "cell_type": "code",
   "execution_count": 17,
   "metadata": {},
   "outputs": [
    {
     "name": "stdout",
     "output_type": "stream",
     "text": [
      "The correlation between both factors is 0.07\n"
     ]
    },
    {
     "data": {
      "image/png": "[encoded data removed]",
      "text/plain": [
       "<Figure size 432x288 with 1 Axes>"
      ]
     },
     "metadata": {
      "needs_background": "light"
     },
     "output_type": "display_data"
    }
   ],
   "source": [
    "correlation = st.pearsonr(northern_df[\"Lat\"],northern_df[\"Humidity\"])\n",
    "print(f\"The correlation between both factors is {round(correlation[0],2)}\")\n",
    "\n",
    "(slope, intercept, rvalue, pvalue, stderr) = st.linregress(northern_df[\"Lat\"],northern_df[\"Humidity\"])\n",
    "regress_values = northern_df[\"Lat\"] * slope + intercept\n",
    "line_eq = \"y = \" + str(round(slope,2)) + \"x + \" + str(round(intercept,2))\n",
    "plt.scatter(northern_df[\"Lat\"],northern_df[\"Humidity\"])\n",
    "plt.plot(northern_df[\"Lat\"],regress_values,\"r-\")\n",
    "plt.annotate(line_eq,(0,20),fontsize=14,color=\"red\")\n",
    "\n",
    "\n",
    "plt.xlabel(\"Latitude\")\n",
    "plt.ylabel(\"Humidity\")\n",
    "\n",
    "# Save the figure\n",
    "plt.savefig(\"Figures/NorthHumidityRegression.png\")\n",
    "plt.show()"
   ]
  },
  {
   "cell_type": "markdown",
   "metadata": {},
   "source": [
    "####  Southern Hemisphere - Humidity (%) vs. Latitude Linear Regression"
   ]
  },
  {
   "cell_type": "code",
   "execution_count": 19,
   "metadata": {},
   "outputs": [
    {
     "name": "stdout",
     "output_type": "stream",
     "text": [
      "The correlation between both factors is -0.04\n"
     ]
    },
    {
     "data": {
      "image/png": "[encoded data removed]",
      "text/plain": [
       "<Figure size 432x288 with 1 Axes>"
      ]
     },
     "metadata": {
      "needs_background": "light"
     },
     "output_type": "display_data"
    }
   ],
   "source": [
    "correlation = st.pearsonr(southern_df[\"Lat\"],southern_df[\"Humidity\"])\n",
    "print(f\"The correlation between both factors is {round(correlation[0],2)}\")\n",
    "\n",
    "(slope, intercept, rvalue, pvalue, stderr) = st.linregress(southern_df[\"Lat\"],southern_df[\"Humidity\"])\n",
    "regress_values = southern_df[\"Lat\"] * slope + intercept\n",
    "line_eq = \"y = \" + str(round(slope,2)) + \"x + \" + str(round(intercept,2))\n",
    "plt.scatter(southern_df[\"Lat\"],southern_df[\"Humidity\"])\n",
    "plt.plot(southern_df[\"Lat\"],regress_values,\"r-\")\n",
    "plt.annotate(line_eq,(-50,20),fontsize=14,color=\"red\")\n",
    "\n",
    "\n",
    "plt.xlabel(\"Latitude\")\n",
    "plt.ylabel(\"Humidity\")\n",
    "\n",
    "# Save the figure\n",
    "plt.savefig(\"Figures/SouthHumidityRegression.png\")\n",
    "plt.show()"
   ]
  },
  {
   "cell_type": "markdown",
   "metadata": {},
   "source": [
    "####  Northern Hemisphere - Cloudiness (%) vs. Latitude Linear Regression"
   ]
  },
  {
   "cell_type": "code",
   "execution_count": 20,
   "metadata": {},
   "outputs": [
    {
     "name": "stdout",
     "output_type": "stream",
     "text": [
      "The correlation between both factors is -0.07\n"
     ]
    },
    {
     "data": {
      "image/png": "[encoded data removed]",
      "text/plain": [
       "<Figure size 432x288 with 1 Axes>"
      ]
     },
     "metadata": {
      "needs_background": "light"
     },
     "output_type": "display_data"
    }
   ],
   "source": [
    "correlation = st.pearsonr(northern_df[\"Lat\"],northern_df[\"Cloudiness\"])\n",
    "print(f\"The correlation between both factors is {round(correlation[0],2)}\")\n",
    "\n",
    "(slope, intercept, rvalue, pvalue, stderr) = st.linregress(northern_df[\"Lat\"],northern_df[\"Cloudiness\"])\n",
    "regress_values = northern_df[\"Lat\"] * slope + intercept\n",
    "line_eq = \"y = \" + str(round(slope,2)) + \"x + \" + str(round(intercept,2))\n",
    "plt.scatter(northern_df[\"Lat\"],northern_df[\"Cloudiness\"])\n",
    "plt.plot(northern_df[\"Lat\"],regress_values,\"r-\")\n",
    "plt.annotate(line_eq,(0,20),fontsize=14,color=\"red\")\n",
    "\n",
    "\n",
    "plt.xlabel(\"Latitude\")\n",
    "plt.ylabel(\"Cloudiness\")\n",
    "\n",
    "# Save the figure\n",
    "plt.savefig(\"Figures/NorthCloudRegression.png\")\n",
    "plt.show()"
   ]
  },
  {
   "cell_type": "markdown",
   "metadata": {},
   "source": [
    "####  Southern Hemisphere - Cloudiness (%) vs. Latitude Linear Regression"
   ]
  },
  {
   "cell_type": "code",
   "execution_count": 21,
   "metadata": {},
   "outputs": [
    {
     "name": "stdout",
     "output_type": "stream",
     "text": [
      "The correlation between both factors is -0.16\n"
     ]
    },
    {
     "data": {
      "image/png": "[encoded data removed]",
      "text/plain": [
       "<Figure size 432x288 with 1 Axes>"
      ]
     },
     "metadata": {
      "needs_background": "light"
     },
     "output_type": "display_data"
    }
   ],
   "source": [
    "correlation = st.pearsonr(southern_df[\"Lat\"],southern_df[\"Cloudiness\"])\n",
    "print(f\"The correlation between both factors is {round(correlation[0],2)}\")\n",
    "\n",
    "(slope, intercept, rvalue, pvalue, stderr) = st.linregress(southern_df[\"Lat\"],southern_df[\"Cloudiness\"])\n",
    "regress_values = southern_df[\"Lat\"] * slope + intercept\n",
    "line_eq = \"y = \" + str(round(slope,2)) + \"x + \" + str(round(intercept,2))\n",
    "plt.scatter(southern_df[\"Lat\"],southern_df[\"Cloudiness\"])\n",
    "plt.plot(southern_df[\"Lat\"],regress_values,\"r-\")\n",
    "plt.annotate(line_eq,(-50,20),fontsize=14,color=\"red\")\n",
    "\n",
    "\n",
    "plt.xlabel(\"Latitude\")\n",
    "plt.ylabel(\"Cloudiness\")\n",
    "\n",
    "# Save the figure\n",
    "plt.savefig(\"Figures/SouthCloudRegression.png\")\n",
    "plt.show()"
   ]
  },
  {
   "cell_type": "markdown",
   "metadata": {},
   "source": [
    "####  Northern Hemisphere - Wind Speed (mph) vs. Latitude Linear Regression"
   ]
  },
  {
   "cell_type": "code",
   "execution_count": 22,
   "metadata": {},
   "outputs": [
    {
     "name": "stdout",
     "output_type": "stream",
     "text": [
      "The correlation between both factors is -0.07\n"
     ]
    },
    {
     "data": {
      "image/png": "[encoded data removed]",
      "text/plain": [
       "<Figure size 432x288 with 1 Axes>"
      ]
     },
     "metadata": {
      "needs_background": "light"
     },
     "output_type": "display_data"
    }
   ],
   "source": [
    "correlation = st.pearsonr(northern_df[\"Lat\"],northern_df[\"Wind Speed\"])\n",
    "print(f\"The correlation between both factors is {round(correlation[0],2)}\")\n",
    "\n",
    "(slope, intercept, rvalue, pvalue, stderr) = st.linregress(northern_df[\"Lat\"],northern_df[\"Wind Speed\"])\n",
    "regress_values = northern_df[\"Lat\"] * slope + intercept\n",
    "line_eq = \"y = \" + str(round(slope,2)) + \"x + \" + str(round(intercept,2))\n",
    "plt.scatter(northern_df[\"Lat\"],northern_df[\"Wind Speed\"])\n",
    "plt.plot(northern_df[\"Lat\"],regress_values,\"r-\")\n",
    "plt.annotate(line_eq,(0,20),fontsize=14,color=\"red\")\n",
    "\n",
    "\n",
    "plt.xlabel(\"Latitude\")\n",
    "plt.ylabel(\"Wind Speed\")\n",
    "\n",
    "# Save the figure\n",
    "plt.savefig(\"Figures/NorthWindSpeedRegression.png\")\n",
    "plt.show()"
   ]
  },
  {
   "cell_type": "markdown",
   "metadata": {},
   "source": [
    "####  Southern Hemisphere - Wind Speed (mph) vs. Latitude Linear Regression"
   ]
  },
  {
   "cell_type": "code",
   "execution_count": 23,
   "metadata": {},
   "outputs": [
    {
     "name": "stdout",
     "output_type": "stream",
     "text": [
      "The correlation between both factors is -0.02\n"
     ]
    },
    {
     "data": {
      "image/png": "[encoded data removed]",
      "text/plain": [
       "<Figure size 432x288 with 1 Axes>"
      ]
     },
     "metadata": {
      "needs_background": "light"
     },
     "output_type": "display_data"
    }
   ],
   "source": [
    "correlation = st.pearsonr(southern_df[\"Lat\"],southern_df[\"Wind Speed\"])\n",
    "print(f\"The correlation between both factors is {round(correlation[0],2)}\")\n",
    "\n",
    "(slope, intercept, rvalue, pvalue, stderr) = st.linregress(southern_df[\"Lat\"],southern_df[\"Wind Speed\"])\n",
    "regress_values = southern_df[\"Lat\"] * slope + intercept\n",
    "line_eq = \"y = \" + str(round(slope,2)) + \"x + \" + str(round(intercept,2))\n",
    "plt.scatter(southern_df[\"Lat\"],southern_df[\"Wind Speed\"])\n",
    "plt.plot(southern_df[\"Lat\"],regress_values,\"r-\")\n",
    "plt.annotate(line_eq,(-50,20),fontsize=14,color=\"red\")\n",
    "\n",
    "\n",
    "plt.xlabel(\"Latitude\")\n",
    "plt.ylabel(\"Wind Speed\")\n",
    "\n",
    "# Save the figure\n",
    "plt.savefig(\"Figures/SouthWindSpeedRegression.png\")\n",
    "plt.show()"
   ]
  }
 ],
 "metadata": {
  "anaconda-cloud": {},
  "kernel_info": {
   "name": "python3"
  },
  "kernelspec": {
   "display_name": "Python 3",
   "language": "python",
   "name": "python3"
  },
  "language_info": {
   "codemirror_mode": {
    "name": "ipython",
    "version": 3
   },
   "file_extension": ".py",
   "mimetype": "text/x-python",
   "name": "python",
   "nbconvert_exporter": "python",
   "pygments_lexer": "ipython3",
   "version": "3.7.7"
  },
  "latex_envs": {
   "LaTeX_envs_menu_present": true,
   "autoclose": false,
   "autocomplete": true,
   "bibliofile": "biblio.bib",
   "cite_by": "apalike",
   "current_citInitial": 1,
   "eqLabelWithNumbers": true,
   "eqNumInitial": 1,
   "hotkeys": {
    "equation": "Ctrl-E",
    "itemize": "Ctrl-I"
   },
   "labels_anchors": false,
   "latex_user_defs": false,
   "report_style_numbering": false,
   "user_envs_cfg": false
  },
  "nteract": {
   "version": "0.12.3"
  }
 },
 "nbformat": 4,
 "nbformat_minor": 2
}
